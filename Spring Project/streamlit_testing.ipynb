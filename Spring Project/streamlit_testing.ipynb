{
 "cells": [
  {
   "cell_type": "code",
   "execution_count": null,
   "id": "529473a2",
   "metadata": {},
   "outputs": [],
   "source": [
    "#Streamlit testing\n"
   ]
  }
 ],
 "metadata": {
  "language_info": {
   "name": "python"
  }
 },
 "nbformat": 4,
 "nbformat_minor": 5
}
