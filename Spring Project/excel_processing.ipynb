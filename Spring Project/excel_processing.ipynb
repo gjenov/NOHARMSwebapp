{
 "cells": [
  {
   "cell_type": "code",
   "execution_count": null,
   "id": "3b956883",
   "metadata": {},
   "outputs": [
    {
     "name": "stdout",
     "output_type": "stream",
     "text": [
      "\"Living\": 03:37\n",
      "\"Fridge\": 00:26\n",
      "\"Kitchen\": 02:15\n",
      "\"Sink\": 00:19\n",
      "\"Bathroom\": 04:15\n",
      "\"Cupboard\": 00:03\n",
      "\"Bedroom\": 00:13\n"
     ]
    }
   ],
   "source": [
    "#Processing xlsx to get activity time\n",
    "#input = xlsx\n",
    "#Output = Activity_duration = {\"Activity\" : 13:50}\n",
    "\n",
    "\n",
    "\n",
    "import pandas as pd\n",
    "from datetime import datetime, timedelta\n",
    "\n",
    "\n",
    "filename = \"Arveen_2_sheet.xlsx\" \n",
    "\n",
    "df = pd.read_excel(filename)\n",
    "\n",
    "action_stack = {}\n",
    "total_duration = {}\n",
    "for rowindex, row in df.iterrows():\n",
    "    action = row['Activity']\n",
    "    duration = datetime.strptime(str(row['Time']), \"%H:%M:%S\")\n",
    "    #We have room trans and Action\n",
    "    if action.startswith(\"Entered\"): #beginning of room trans\n",
    "        name = action.replace(\"Entered \", \"\")\n",
    "        action_stack[name] = duration\n",
    "\n",
    "    elif action.startswith(\"Left\"): #end of room trans\n",
    "        #log time and clear stack of that action\n",
    "        name = action.replace(\"Left \", \"\")\n",
    "        if name in action_stack:\n",
    "            duration = duration - action_stack[name]\n",
    "            total_duration[name] = total_duration.get(name, timedelta()) + duration\n",
    "            del action_stack[name]\n",
    "    #coarse grain actions\n",
    "    elif action.startswith(\"started\"):\n",
    "        name = action.replace(\"started \", \"\")\n",
    "        action_stack[name] = duration\n",
    "    elif action.startswith(\"stopped\"):\n",
    "        name = action.replace(\"stopped \", \"\")\n",
    "        if name in action_stack:\n",
    "            duration = duration - action_stack[name]\n",
    "            total_duration[name] = total_duration.get(name, timedelta()) + duration\n",
    "            del action_stack[name]\n",
    "\n",
    "for name, time in total_duration.items():\n",
    "    minutes = int(time.total_seconds() // 60)\n",
    "    seconds = int(time.total_seconds() % 60)\n",
    "    print(f'\"{name}\": {minutes:02}:{seconds:02}')\n"
   ]
  },
  {
   "cell_type": "code",
   "execution_count": null,
   "id": "5bbfd997",
   "metadata": {},
   "outputs": [],
   "source": []
  }
 ],
 "metadata": {
  "kernelspec": {
   "display_name": "Python 3",
   "language": "python",
   "name": "python3"
  },
  "language_info": {
   "codemirror_mode": {
    "name": "ipython",
    "version": 3
   },
   "file_extension": ".py",
   "mimetype": "text/x-python",
   "name": "python",
   "nbconvert_exporter": "python",
   "pygments_lexer": "ipython3",
   "version": "3.11.9"
  }
 },
 "nbformat": 4,
 "nbformat_minor": 5
}
